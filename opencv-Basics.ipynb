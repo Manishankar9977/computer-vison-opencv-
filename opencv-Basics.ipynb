{
 "cells": [
  {
   "cell_type": "code",
   "execution_count": 1,
   "metadata": {},
   "outputs": [
    {
     "name": "stdout",
     "output_type": "stream",
     "text": [
      "Requirement already satisfied: opencv-python in c:\\users\\ril\\anaconda3\\lib\\site-packages (4.6.0.66)\n",
      "Requirement already satisfied: numpy>=1.14.5; python_version >= \"3.7\" in c:\\users\\ril\\anaconda3\\lib\\site-packages (from opencv-python) (1.19.2)\n"
     ]
    }
   ],
   "source": [
    "!pip install opencv-python"
   ]
  },
  {
   "cell_type": "code",
   "execution_count": 2,
   "metadata": {},
   "outputs": [],
   "source": [
    "import cv2"
   ]
  },
  {
   "cell_type": "markdown",
   "metadata": {},
   "source": [
    "Reading Image as Color or GrayScale Image in Python using OpenCV\n",
    "In this article, we’ll try to open an image by using OpenCV (Open Source Computer Vision). To use the OpenCV library in python, we need to install these libraries as a prerequisite:\n",
    "\n",
    "Numpy Library (Necessary, because OpenCV uses it in the background).\n",
    "OpenCV python\n",
    "To install these libraries, we need to run these pip commands in cmd:\n",
    "\n",
    "pip install opencv-python\n",
    "pip install numpy\n",
    "pip install matplotlib\n",
    "Functions you need to understand\n",
    "Read an image from file (using cv::imread)\n",
    "Display an image in an OpenCV window (using cv::imshow)\n",
    "Write an image to a file (using cv::imwrite)"
   ]
  },
  {
   "cell_type": "markdown",
   "metadata": {},
   "source": [
    "Reading a GrayScale Image in Python using OpenCV"
   ]
  },
  {
   "cell_type": "code",
   "execution_count": 1,
   "metadata": {},
   "outputs": [],
   "source": [
    "import cv2\n",
    "img = cv2.imread('D:\\\\man.jpeg',cv2.IMREAD_GRAYSCALE)\n",
    "cv2.imshow('image',img)\n",
    "cv2.waitKey(0)\n",
    "cv2.destroyAllWindows()"
   ]
  },
  {
   "cell_type": "code",
   "execution_count": null,
   "metadata": {},
   "outputs": [],
   "source": []
  },
  {
   "cell_type": "code",
   "execution_count": 2,
   "metadata": {},
   "outputs": [],
   "source": [
    "#same as above \n",
    "import cv2\n",
    "img = cv2.imread('D:\\\\man.jpeg',0)\n",
    "cv2.imshow('image',img)\n",
    "cv2.waitKey(0)\n",
    "cv2.destroyAllWindows()"
   ]
  },
  {
   "cell_type": "markdown",
   "metadata": {},
   "source": [
    "Reading a Color Image in Python using OpenCV"
   ]
  },
  {
   "cell_type": "code",
   "execution_count": 3,
   "metadata": {},
   "outputs": [],
   "source": [
    "import cv2\n",
    "img = cv2.imread('D:\\\\man.jpeg',cv2.IMREAD_COLOR)\n",
    "cv2.imshow('image',img)\n",
    "cv2.waitKey(0)\n",
    "cv2.destroyAllWindows()"
   ]
  },
  {
   "cell_type": "code",
   "execution_count": 4,
   "metadata": {},
   "outputs": [],
   "source": [
    "#or\n",
    "import cv2\n",
    "img = cv2.imread('D:\\\\man.jpeg',1)\n",
    "cv2.imshow('image',img)\n",
    "cv2.waitKey(0)\n",
    "cv2.destroyAllWindows()"
   ]
  },
  {
   "cell_type": "code",
   "execution_count": 5,
   "metadata": {},
   "outputs": [],
   "source": [
    "import matplotlib.pyplot as plt"
   ]
  },
  {
   "cell_type": "markdown",
   "metadata": {},
   "source": [
    "Get RGB Value of a Single Pixel"
   ]
  },
  {
   "cell_type": "code",
   "execution_count": 6,
   "metadata": {},
   "outputs": [
    {
     "data": {
      "text/plain": [
       "array([237, 236, 240], dtype=uint8)"
      ]
     },
     "execution_count": 6,
     "metadata": {},
     "output_type": "execute_result"
    }
   ],
   "source": [
    "img[100,100]"
   ]
  },
  {
   "cell_type": "code",
   "execution_count": 7,
   "metadata": {},
   "outputs": [
    {
     "name": "stdout",
     "output_type": "stream",
     "text": [
      "237 236 240\n"
     ]
    }
   ],
   "source": [
    "B,G,R = img[100,100]\n",
    "print(B,G,R)"
   ]
  },
  {
   "cell_type": "code",
   "execution_count": 8,
   "metadata": {},
   "outputs": [
    {
     "name": "stdout",
     "output_type": "stream",
     "text": [
      "Type of the image :  <class 'numpy.ndarray'>\n",
      "\n",
      "Shape of the image : (531, 413, 3)\n",
      "Image Height 531\n",
      "Image Width 413\n",
      "Dimension of Image 3\n"
     ]
    }
   ],
   "source": [
    "print('Type of the image : ' , type(img))\n",
    "print()\n",
    "print('Shape of the image : {}'.format(img.shape))\n",
    "print('Image Height {}'.format(img.shape[0]))\n",
    "print('Image Width {}'.format(img.shape[1]))\n",
    "print('Dimension of Image {}'.format(img.ndim))"
   ]
  },
  {
   "cell_type": "markdown",
   "metadata": {},
   "source": [
    "Read Image from Height 100-200 Pixel and Width 200-400 Pixel"
   ]
  },
  {
   "cell_type": "code",
   "execution_count": 9,
   "metadata": {},
   "outputs": [],
   "source": [
    "import cv2\n",
    "img=cv2.imread('D:\\\\man.jpeg',1)\n",
    "#roi=region of intrest\n",
    "roi=img[100:200,200:400]\n",
    "cv2.imshow('image',roi)\n",
    "cv2.waitKey(0)\n",
    "cv2.destroyAllWindows()"
   ]
  },
  {
   "cell_type": "markdown",
   "metadata": {},
   "source": [
    "Resize image to 200px 180px ( Width Height )\n",
    "RESIZEING IMAGE "
   ]
  },
  {
   "cell_type": "code",
   "execution_count": 10,
   "metadata": {},
   "outputs": [],
   "source": [
    "import cv2\n",
    "img = cv2.imread('D:\\\\man.jpeg',1)\n",
    "resize=cv2.resize(img,(200,180))\n",
    "cv2.imshow('image',resize)\n",
    "cv2.waitKey(0)\n",
    "cv2.destroyAllWindows()"
   ]
  },
  {
   "cell_type": "markdown",
   "metadata": {},
   "source": [
    "Rotating the Image\n",
    "There are a lot of steps involved in rotating an image. The 2 main functions used here are –\n",
    "\n",
    "getRotationMatrix2D()\n",
    "warpAffine()\n",
    "getRotationMatrix2D() : It takes 3 arguments\n",
    "\n",
    "center – The center coordinates of the image\n",
    "Angle – The angle (in degrees) by which the image should be rotated\n",
    "Scale – The scaling factor\n",
    "warpAffine()\n",
    "\n",
    "The function warpAffine transforms the source image using the rotation matrix:"
   ]
  },
  {
   "cell_type": "code",
   "execution_count": 13,
   "metadata": {},
   "outputs": [],
   "source": [
    "import cv2\n",
    "img = cv2.imread('D:\\\\man.jpeg',1)\n",
    "\n",
    "h,w = img.shape[:2]\n",
    "center = (w // 2, h // 2) \n",
    "matrix = cv2.getRotationMatrix2D(center, 135, 0.5)  \n",
    "rotated = cv2.warpAffine(img, matrix, (w, h)) \n",
    "\n",
    "cv2.imshow('image',rotated)\n",
    "cv2.waitKey(0)\n",
    "cv2.destroyAllWindows()"
   ]
  },
  {
   "cell_type": "markdown",
   "metadata": {},
   "source": [
    "Drawing a Rectangle on Image in Python using OpenCV\n",
    "Drawing a Rectangle\n",
    "rectangle() function take 5 Arguments\n",
    "\n",
    "Image\n",
    "Top-left corner co-ordinates\n",
    "Bottom-right corner co-ordinates\n",
    "Color (in BGR format)\n",
    "Line width"
   ]
  },
  {
   "cell_type": "code",
   "execution_count": 10,
   "metadata": {},
   "outputs": [],
   "source": [
    "import cv2\n",
    "img = cv2.imread('D:\\\\man.jpeg',1)\n",
    "\n",
    "output = img.copy() \n",
    "rectangle = cv2.rectangle(output, (100, 20),(300, 300), (0, 255, 0), 5) \n",
    "cv2.imshow('image',rectangle)\n",
    "cv2.waitKey(0)\n",
    "cv2.destroyAllWindows()"
   ]
  },
  {
   "cell_type": "markdown",
   "metadata": {},
   "source": [
    "Displaying text on Image in Python using OpenCV\n",
    "putText() Function takes in 7 arguments –\n",
    "\n",
    "Image\n",
    "Text to be displayed\n",
    "Bottom-left corner co-ordinates, from where the text should start\n",
    "Font\n",
    "Font size\n",
    "Color (BGR format)\n",
    "Line width"
   ]
  },
  {
   "cell_type": "code",
   "execution_count": 14,
   "metadata": {},
   "outputs": [],
   "source": [
    "import cv2\n",
    "img = cv2.imread('D:\\\\man.jpeg',1)\n",
    "\n",
    "output = img.copy() \n",
    "text = cv2.putText(output, 'LAKSHMI MANI SHANKAR', (120, 25),  cv2.FONT_HERSHEY_SIMPLEX, 0.6, (60, 60, 60), 2)\n",
    "cv2.imshow('image',text)\n",
    "cv2.waitKey(0)\n",
    "cv2.destroyAllWindows()"
   ]
  },
  {
   "cell_type": "markdown",
   "metadata": {},
   "source": [
    "Visualizing the Different Color Channels of an RGB Image in Python using OpenCV"
   ]
  },
  {
   "cell_type": "code",
   "execution_count": 16,
   "metadata": {},
   "outputs": [],
   "source": [
    "import cv2\n",
    "img = cv2.imread('D:\\\\op.png',1)\n",
    "cv2.imshow('image',img)\n",
    "cv2.waitKey(0)\n",
    "cv2.destroyAllWindows()"
   ]
  },
  {
   "cell_type": "code",
   "execution_count": 18,
   "metadata": {},
   "outputs": [
    {
     "name": "stdout",
     "output_type": "stream",
     "text": [
      "[[255 255 255 ... 255 255 255]\n",
      " [255 255 255 ... 255 255 255]\n",
      " [255 255 255 ... 255 255 255]\n",
      " ...\n",
      " [255 255 255 ... 255 255 255]\n",
      " [255 255 255 ... 255 255 255]\n",
      " [255 255 255 ... 255 255 255]]\n",
      "[[255 255 255 ... 255 255 255]\n",
      " [255 255 255 ... 255 255 255]\n",
      " [255 255 255 ... 255 255 255]\n",
      " ...\n",
      " [255 255 255 ... 255 255 255]\n",
      " [255 255 255 ... 255 255 255]\n",
      " [255 255 255 ... 255 255 255]]\n",
      "[[255 255 255 ... 255 255 255]\n",
      " [255 255 255 ... 255 255 255]\n",
      " [255 255 255 ... 255 255 255]\n",
      " ...\n",
      " [255 255 255 ... 255 255 255]\n",
      " [255 255 255 ... 255 255 255]\n",
      " [255 255 255 ... 255 255 255]]\n"
     ]
    }
   ],
   "source": [
    "import cv2 \n",
    "img=cv2.imread('D:\\\\op.png',1)\n",
    "B,G,R = cv2.split(img) \n",
    "print(B)\n",
    "print(G)\n",
    "print(R)"
   ]
  },
  {
   "cell_type": "code",
   "execution_count": 19,
   "metadata": {},
   "outputs": [],
   "source": [
    "cv2.imshow(\"blue\", B) \n",
    "cv2.waitKey(0) \n",
    "cv2.destroyAllWindows()"
   ]
  },
  {
   "cell_type": "code",
   "execution_count": 20,
   "metadata": {},
   "outputs": [],
   "source": [
    "cv2.imshow(\"Green\", G) \n",
    "cv2.waitKey(0) \n",
    "cv2.destroyAllWindows()"
   ]
  },
  {
   "cell_type": "code",
   "execution_count": 21,
   "metadata": {},
   "outputs": [],
   "source": [
    "cv2.imshow(\"red\", R) \n",
    "cv2.waitKey(0) \n",
    "cv2.destroyAllWindows()"
   ]
  },
  {
   "cell_type": "markdown",
   "metadata": {},
   "source": [
    "Arithmetic Operations on Images using OpenCV\n",
    "Arithmetic Operations like Addition, Subtraction, and Bitwise Operations(AND, OR, NOT, XOR) can be applied to the input images\n",
    "\n",
    "Addition\n",
    "Subtraction\n",
    "Bitwise operations are used in image manipulation and used for extracting essential parts in the image. In this article, Bitwise operations used are:\n",
    "\n",
    "Bitwise AND\n",
    "Bitwise OR\n",
    "Bitwise XOR\n",
    "Bitwise NOT\n",
    "1. Addition\n",
    "Syntax: cv2.add(img1, img2)\n",
    "But adding the pixels is not an ideal situation. So, we use cv2.addweighted(). Remember, both images should be of equal size and depth."
   ]
  },
  {
   "cell_type": "code",
   "execution_count": 25,
   "metadata": {},
   "outputs": [],
   "source": [
    "import cv2  \n",
    "import numpy as np  \n",
    "     \n",
    "image1 = cv2.imread('D:\\\\i1.jpg',1)  \n",
    "image2 = cv2.imread('D:\\\\i2.jpg',1) \n",
    "  \n",
    "weightedSum = cv2.add(image1,image2) \n",
    "\n",
    "cv2.imshow('Image', weightedSum) \n",
    "  \n",
    "cv2.waitKey(0)\n",
    "cv2.destroyAllWindows()"
   ]
  },
  {
   "cell_type": "markdown",
   "metadata": {},
   "source": [
    "2.Subtraction of Image:\n",
    "Just like addition, we can subtract the pixel values in two images and merge them with the help of cv2.subtract(). The images should be of equal size and depth.\n",
    "\n",
    "Syntax: cv2.subtract(image1, image2)"
   ]
  },
  {
   "cell_type": "code",
   "execution_count": 26,
   "metadata": {},
   "outputs": [],
   "source": [
    "import cv2  \n",
    "import numpy as np  \n",
    "     \n",
    "image1 = cv2.imread('D:\\\\i1.jpg',1)  \n",
    "image2 = cv2.imread('D:\\\\i2.jpg',1) \n",
    "  \n",
    "weightedSum = cv2.subtract(image1,image2) \n",
    "\n",
    "cv2.imshow('Image', weightedSum) \n",
    "  \n",
    "cv2.waitKey(0)\n",
    "cv2.destroyAllWindows()"
   ]
  },
  {
   "cell_type": "markdown",
   "metadata": {},
   "source": [
    "Access Camera Using OpenCV with Python\n",
    "first, we Import libraries OpenCV.\n",
    "Then we use VideoCapture(0) function to capture the feed of the webcam, here 0 indicates the default value of webcam. If you have secondary webcam use 1 instead of 0\n",
    "Now read the frame of the camera frame by frame\n",
    "ret is a boolean variable that checks if the camera is on or not\n",
    "the frame is a variable in which all the camera feed is being saved"
   ]
  },
  {
   "cell_type": "code",
   "execution_count": null,
   "metadata": {},
   "outputs": [],
   "source": [
    "import cv2\n",
    "capture=cv2.VideoCapture(0)\n",
    "while True:\n",
    "    ret,frame=capture.read()\n",
    "    cv2.imshow('Color',frame)\n",
    "    if cv2.waitKey(1) & 0xFF == ord('q'):\n",
    "        break\n",
    "capture.release()\n",
    "cv2.destroyAllWindows()S"
   ]
  },
  {
   "cell_type": "markdown",
   "metadata": {},
   "source": [
    "Save Image from Webcam"
   ]
  },
  {
   "cell_type": "code",
   "execution_count": 3,
   "metadata": {},
   "outputs": [],
   "source": [
    "import cv2\n",
    "capture=cv2.VideoCapture(0)\n",
    "while True:\n",
    "    ret,frame=capture.read()\n",
    "    cv2.imshow('Color',frame)\n",
    "    if cv2.waitKey(1) & 0xFF == ord('q'):\n",
    "        cv2.imwrite(\"MachineLearning.jpg\",frame)\n",
    "        break\n",
    "capture.release()\n",
    "cv2.destroyAllWindows()"
   ]
  },
  {
   "cell_type": "markdown",
   "metadata": {},
   "source": [
    "Record Video From a Webcam using OpenCV\n",
    "cv2.VideoWriter( filename, fourcc, fps, frameSize )\n",
    "The parameters are :\n",
    "\n",
    "filename: Specifies the name of the output video file.\n",
    "fourcc: (for recording) Defining the codec\n",
    "fps: Defined frame rate of the output video stream\n",
    "frameSize: Size of the video frame"
   ]
  },
  {
   "cell_type": "code",
   "execution_count": 5,
   "metadata": {},
   "outputs": [],
   "source": [
    "import cv2\n",
    "capture=cv2.VideoCapture(0)\n",
    "\n",
    "cod = cv2.VideoWriter_fourcc(*'XVID')\n",
    "out = cv2.VideoWriter('out.avi',cod,20.0,(640,480))\n",
    "\n",
    "while True:\n",
    "    ret,frame=capture.read()\n",
    "    gray=cv2.cvtColor(frame,cv2.COLOR_BGR2GRAY)\n",
    "    cv2.imshow('Gray',gray)\n",
    "    cv2.imshow('Color',frame)\n",
    "    out.write(frame)\n",
    "    if cv2.waitKey(1) & 0xFF == ord('q'):\n",
    "        break\n",
    "capture.release()\n",
    "cv2.destroyAllWindows()"
   ]
  },
  {
   "cell_type": "code",
   "execution_count": null,
   "metadata": {},
   "outputs": [],
   "source": []
  }
 ],
 "metadata": {
  "kernelspec": {
   "display_name": "Python 3",
   "language": "python",
   "name": "python3"
  },
  "language_info": {
   "codemirror_mode": {
    "name": "ipython",
    "version": 3
   },
   "file_extension": ".py",
   "mimetype": "text/x-python",
   "name": "python",
   "nbconvert_exporter": "python",
   "pygments_lexer": "ipython3",
   "version": "3.8.5"
  }
 },
 "nbformat": 4,
 "nbformat_minor": 4
}
